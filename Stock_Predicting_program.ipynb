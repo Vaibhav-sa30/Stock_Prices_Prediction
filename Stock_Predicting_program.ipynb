{
  "nbformat": 4,
  "nbformat_minor": 0,
  "metadata": {
    "colab": {
      "provenance": []
    },
    "kernelspec": {
      "name": "python3",
      "display_name": "Python 3"
    },
    "language_info": {
      "name": "python"
    }
  },
  "cells": [
    {
      "cell_type": "code",
      "source": [
        "#This program predicts stock prices by using machine learning models"
      ],
      "metadata": {
        "id": "K6FKb2HICTdh"
      },
      "execution_count": null,
      "outputs": []
    },
    {
      "cell_type": "code",
      "source": [
        "#Install the dependencies\n",
        "import quandl\n",
        "import numpy as np\n",
        "import pandas as pd\n",
        "from sklearn.linear_model import LinearRegression\n",
        "from sklearn.svm import SVR\n",
        "from sklearn.model_selection import train_test_split\n"
      ],
      "metadata": {
        "id": "-BSddAV9C1P5"
      },
      "execution_count": 2,
      "outputs": []
    },
    {
      "cell_type": "code",
      "source": [
        "#Get the stock Data\n",
        "df = quandl.get('WIKI/FB')\n",
        "#Take a look at the data\n",
        "df.head()\n",
        "# Adj is abreviation for 'adjusted'."
      ],
      "metadata": {
        "id": "sKi3Mv3hDnEq"
      },
      "execution_count": null,
      "outputs": []
    },
    {
      "cell_type": "code",
      "source": [
        "#Get the adjusted close price\n",
        "df = df[['Adj. Close']]\n",
        "#Take a look at the new data\n",
        "df.head()"
      ],
      "metadata": {
        "id": "n88DBZ5tEERY"
      },
      "execution_count": null,
      "outputs": []
    },
    {
      "cell_type": "code",
      "source": [
        "#A variable for predicting n days out into the future \n",
        "forecast_out = 1 #here n=1, meaning we're gonna predict next day's stock price\n",
        "#Create another column (the target or the dependent variable) shifted 'n' units up\n",
        "df['Prediction'] = df[['Adj. Close']].shift(-forecast_out)\n",
        "#Take a look at the new dataset\n",
        "df.head()\n",
        "df.tail()"
      ],
      "metadata": {
        "id": "W2XhIRfwFk58"
      },
      "execution_count": null,
      "outputs": []
    },
    {
      "cell_type": "code",
      "source": [
        "#A variable for predicting n days out into the future \n",
        "forecast_out = 30 #here n=1, meaning we're gonna predict next day's stock price\n",
        "n = forecast_out\n",
        "#Create another column (the target or the dependent variable) shifted 'n' units up\n",
        "df['Prediction'] = df[['Adj. Close']].shift(-forecast_out)\n",
        "#Take a look at the new dataset\n",
        "df.head()\n"
      ],
      "metadata": {
        "id": "La8a75yuHpqe"
      },
      "execution_count": null,
      "outputs": []
    },
    {
      "cell_type": "code",
      "source": [
        "### CREATE THE INDEPENDENT DATASET (X) ###\n",
        "#Convert the dataframe to a numpy array\n",
        "X = np.array(df.drop(['Prediction'],1))\n",
        "# Remove the last 'n' rows \n",
        "X = X[:-forecast_out]\n",
        "print(X)"
      ],
      "metadata": {
        "id": "35JkoUD_Ivvo"
      },
      "execution_count": null,
      "outputs": []
    },
    {
      "cell_type": "code",
      "source": [
        "### CREATE THE DEPENDENT DATASET (Y) ###\n",
        "#Convert the DataFrame to a numpy array (All of the values including NaNs)\n",
        "Y = np.array(df['Prediction'])\n",
        "# Get all of the Y values except the last 'n' rows \n",
        "Y = Y[:-forecast_out]\n",
        "print(Y)"
      ],
      "metadata": {
        "id": "w8RgGgs9KZQy"
      },
      "execution_count": null,
      "outputs": []
    },
    {
      "cell_type": "code",
      "source": [
        "# Split the data into 80% training and 20% testing\n",
        "x_train , x_test ,  y_train, y_test = train_test_split(X, Y, test_size=0.2)"
      ],
      "metadata": {
        "id": "VRzNmbgrMYpl"
      },
      "execution_count": 14,
      "outputs": []
    },
    {
      "cell_type": "code",
      "source": [
        "#Create and Train the Support Vector Machine (Regressor)\n",
        "svr_rbf = SVR(kernel = 'rbf', C= 1e3, gamma= 0.1)\n",
        "#rbf = radio basis kernal\n",
        "svr_rbf.fit(x_train, y_train)"
      ],
      "metadata": {
        "id": "w3nEer_GN2v7"
      },
      "execution_count": null,
      "outputs": []
    },
    {
      "cell_type": "code",
      "source": [
        "## TESTING MODEL: Score returns the coefficient of determination R^2 of the prediction.\n",
        "#  The best possible score is 1.0\n",
        "svm_confidence = svr_rbf.score(x_test, y_test) \n",
        "print(\"svm confidence: \", svm_confidence) "
      ],
      "metadata": {
        "id": "iYRV7UmmPQS4"
      },
      "execution_count": null,
      "outputs": []
    },
    {
      "cell_type": "code",
      "source": [
        "#Create and Train a Linear Regression Model\n",
        "lr = LinearRegression()\n",
        "#Train the model\n",
        "lr.fit(x_train, y_train)"
      ],
      "metadata": {
        "id": "qOD7EloqQsgg"
      },
      "execution_count": null,
      "outputs": []
    },
    {
      "cell_type": "code",
      "source": [
        "## TESTING MODEL: Score returns the coefficient of determination R^2 of the prediction.\n",
        "#  The best possible score is 1.0\n",
        "lr_confidence = lr.score(x_test, y_test) \n",
        "print(\"lr confidence: \", lr_confidence) "
      ],
      "metadata": {
        "id": "gdp_TqFcRcZ9"
      },
      "execution_count": null,
      "outputs": []
    },
    {
      "cell_type": "code",
      "source": [
        "# Set the x_forecast equal to the last 30 days of the original data from Adj. Close column\n",
        "x_forecast = np.array(df.drop(['Prediction'],1))[-forecast_out:]\n",
        "print(x_forecast)"
      ],
      "metadata": {
        "id": "ZpgXr84QRx8g"
      },
      "execution_count": null,
      "outputs": []
    },
    {
      "cell_type": "code",
      "source": [
        "#Print the Linear Regression Model prediction for next 'n' days \n",
        "lr_prediction = lr.predict(x_forecast)\n",
        "print('Linear Regression Model Predictions of next {0} days'.format(30))\n",
        "print(lr_prediction)\n",
        "\n",
        "#Print the Support Vector Regressor Model prediction for next 'n' days \n",
        "svm_prediction = svr_rbf.predict(x_forecast)\n",
        "print('Support Vector Regressor Model Predictions of next {0} days'.format(30))\n",
        "print(svm_prediction)"
      ],
      "metadata": {
        "colab": {
          "base_uri": "https://localhost:8080/"
        },
        "id": "PUK3eqEHUN1h",
        "outputId": "1a26fab5-5a9d-47cc-947f-aa9d21392253"
      },
      "execution_count": 27,
      "outputs": [
        {
          "output_type": "stream",
          "name": "stdout",
          "text": [
            "Linear Regression Model Predictions of next 30 days\n",
            "[177.05480566 183.49254917 183.93722847 181.30957806 179.94522112\n",
            " 181.86542719 182.95691274 187.30264227 188.9600833  185.45318064\n",
            " 182.27978744 179.87447668 180.56170833 184.38190778 183.75531422\n",
            " 187.72710888 186.34253924 189.26327374 188.78827539 185.87764724\n",
            " 188.21221357 187.87870409 189.12178487 176.45853114 172.00163179\n",
            " 173.25481891 168.70696243 163.14847117 163.82559647 155.87190079]\n",
            "Support Vector Regressor Model Predictions of next 30 days\n",
            "[174.77429845 181.47338417 181.76834841 176.13355669 177.26664184\n",
            " 177.58686547 180.85409986 183.76796794 178.68633011 185.6199807\n",
            " 179.02456765 177.38690947 176.13497246 182.34274748 181.63860225\n",
            " 181.48287716 187.08897887 179.28058503 178.55406289 186.78995839\n",
            " 179.39868279 180.73254693 178.95223995 176.38342944 171.68966939\n",
            " 171.76781558 172.25881992 167.55969054 166.26977554 160.47471306]\n"
          ]
        }
      ]
    }
  ]
}